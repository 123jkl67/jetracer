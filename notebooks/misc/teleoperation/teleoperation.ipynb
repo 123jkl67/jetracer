{
 "cells": [
  {
   "cell_type": "code",
   "execution_count": 1,
   "metadata": {},
   "outputs": [],
   "source": [
    "from jetbot import Camera, bgr8_to_jpeg"
   ]
  },
  {
   "cell_type": "code",
   "execution_count": 4,
   "metadata": {},
   "outputs": [],
   "source": [
    "image = widgets.Image(format='jpeg', width=300, height=300)"
   ]
  },
  {
   "cell_type": "code",
   "execution_count": 5,
   "metadata": {},
   "outputs": [],
   "source": [
    "camera = Camera.instance(capture_height=720, capture_width=1080, fps=30)\n"
   ]
  },
  {
   "cell_type": "code",
   "execution_count": 6,
   "metadata": {},
   "outputs": [
    {
     "data": {
      "text/plain": [
       "<traitlets.traitlets.directional_link at 0x7efa54e940>"
      ]
     },
     "execution_count": 6,
     "metadata": {},
     "output_type": "execute_result"
    }
   ],
   "source": [
    "traitlets.dlink((camera, 'value'), (image, 'value'), transform=bgr8_to_jpeg)"
   ]
  },
  {
   "cell_type": "code",
   "execution_count": 7,
   "metadata": {},
   "outputs": [
    {
     "data": {
      "application/vnd.jupyter.widget-view+json": {
       "model_id": "a06d2b00dbff49efa8030ad7d40fc6ea",
       "version_major": 2,
       "version_minor": 0
      },
      "text/plain": [
       "Image(value=b'\\xff\\xd8\\xff\\xe0\\x00\\x10JFIF\\x00\\x01\\x01\\x00\\x00\\x01\\x00\\x01\\x00\\x00\\xff\\xdb\\x00C\\x00\\x02\\x01\\x0…"
      ]
     },
     "metadata": {},
     "output_type": "display_data"
    }
   ],
   "source": [
    "display(image)"
   ]
  },
  {
   "cell_type": "code",
   "execution_count": 8,
   "metadata": {},
   "outputs": [],
   "source": [
    "from IPython.display import display\n",
    "import traitlets\n",
    "import ipywidgets.widgets as widgets\n",
    "import sys\n",
    "sys.path.append('/opt/nvidia/jetson-gpio/lib/python/')\n",
    "sys.path.append('/opt/nvidia/jetson-gpio/lib/python/Jetson/GPIO')\n",
    "from adafruit_servokit import ServoKit"
   ]
  },
  {
   "cell_type": "code",
   "execution_count": 9,
   "metadata": {},
   "outputs": [],
   "source": [
    "class Racecar(traitlets.HasTraits):\n",
    "    \n",
    "    throttle = traitlets.Float(default_value=0.0)\n",
    "    steering = traitlets.Float(default_value=0.0)\n",
    "    \n",
    "    def __init__(self):\n",
    "        self._kit = ServoKit(channels=16)\n",
    "        self._steering_servo = self._kit.continuous_servo[0]\n",
    "        self._throttle_motor = self._kit.continuous_servo[1]\n",
    "        \n",
    "    @traitlets.observe('throttle')\n",
    "    def _on_throttle(self, change):\n",
    "        self._throttle_motor.throttle = -change['new']\n",
    "        \n",
    "    @traitlets.validate('throttle')\n",
    "    def _validate_throttle(self, proposal):\n",
    "        if proposal['value'] > 1.0:\n",
    "            return 1.0\n",
    "        if proposal['value'] < -1.0:\n",
    "            return -1.0\n",
    "        return proposal['value']\n",
    "        \n",
    "    @traitlets.validate('steering')\n",
    "    def _validate_steering(self, proposal):\n",
    "        if proposal['value'] > 1.0:\n",
    "            return 1.0\n",
    "        if proposal['value'] < -1.0:\n",
    "            return -1.0\n",
    "        return proposal['value']\n",
    "        \n",
    "    @traitlets.observe('steering')\n",
    "    def _on_steering(self, change):\n",
    "        self._steering_servo.throttle = change['new']"
   ]
  },
  {
   "cell_type": "code",
   "execution_count": 10,
   "metadata": {},
   "outputs": [],
   "source": [
    "car = Racecar()"
   ]
  },
  {
   "cell_type": "code",
   "execution_count": 14,
   "metadata": {},
   "outputs": [
    {
     "data": {
      "application/vnd.jupyter.widget-view+json": {
       "model_id": "27ef97a9200a48c3be77d03faf0513d1",
       "version_major": 2,
       "version_minor": 0
      },
      "text/plain": [
       "Controller()"
      ]
     },
     "metadata": {},
     "output_type": "display_data"
    }
   ],
   "source": [
    "controller = widgets.Controller(index=0)\n",
    "\n",
    "display(controller)"
   ]
  },
  {
   "cell_type": "code",
   "execution_count": 12,
   "metadata": {},
   "outputs": [
    {
     "data": {
      "application/vnd.jupyter.widget-view+json": {
       "model_id": "3e7bc441e88e43898c517b7eb5c32cb3",
       "version_major": 2,
       "version_minor": 0
      },
      "text/plain": [
       "FloatSlider(value=1.0, description='steering gain', max=1.0)"
      ]
     },
     "metadata": {},
     "output_type": "display_data"
    },
    {
     "data": {
      "application/vnd.jupyter.widget-view+json": {
       "model_id": "cd261ff623d84d12a353811eaf58fd92",
       "version_major": 2,
       "version_minor": 0
      },
      "text/plain": [
       "FloatSlider(value=0.0, description='steering trim', max=0.2, min=-0.2, step=0.001)"
      ]
     },
     "metadata": {},
     "output_type": "display_data"
    },
    {
     "data": {
      "application/vnd.jupyter.widget-view+json": {
       "model_id": "a50f416bb0204408a258ecd332cac01d",
       "version_major": 2,
       "version_minor": 0
      },
      "text/plain": [
       "FloatSlider(value=0.3, description='throttle gain', max=1.0)"
      ]
     },
     "metadata": {},
     "output_type": "display_data"
    }
   ],
   "source": [
    "steering_gain = widgets.FloatSlider(min=0.0, max=1.0, value=1.0, description='steering gain')\n",
    "steering_trim = widgets.FloatSlider(min=-0.2, max=0.2, value=0.0, step=0.001, description='steering trim')\n",
    "throttle_gain = widgets.FloatSlider(min=0.0, max=1.0, value=0.3, description='throttle gain')\n",
    "\n",
    "display(steering_gain, steering_trim, throttle_gain)"
   ]
  },
  {
   "cell_type": "code",
   "execution_count": 15,
   "metadata": {},
   "outputs": [
    {
     "data": {
      "text/plain": [
       "<traitlets.traitlets.directional_link at 0x7ef42189b0>"
      ]
     },
     "execution_count": 15,
     "metadata": {},
     "output_type": "execute_result"
    }
   ],
   "source": [
    "traitlets.dlink((controller.axes[2], 'value'), (car, 'steering'), transform=lambda x: x * steering_gain.value + steering_trim.value)"
   ]
  },
  {
   "cell_type": "code",
   "execution_count": 16,
   "metadata": {},
   "outputs": [
    {
     "data": {
      "text/plain": [
       "<traitlets.traitlets.directional_link at 0x7ef42185c0>"
      ]
     },
     "execution_count": 16,
     "metadata": {},
     "output_type": "execute_result"
    }
   ],
   "source": [
    "traitlets.dlink((controller.axes[1], 'value'), (car, 'throttle'), transform=lambda x: -x * throttle_gain.value)"
   ]
  },
  {
   "cell_type": "code",
   "execution_count": 65,
   "metadata": {},
   "outputs": [],
   "source": [
    "controller.axes[2].unobserve_all()"
   ]
  }
 ],
 "metadata": {
  "kernelspec": {
   "display_name": "Python 3",
   "language": "python",
   "name": "python3"
  },
  "language_info": {
   "codemirror_mode": {
    "name": "ipython",
    "version": 3
   },
   "file_extension": ".py",
   "mimetype": "text/x-python",
   "name": "python",
   "nbconvert_exporter": "python",
   "pygments_lexer": "ipython3",
   "version": "3.6.7"
  }
 },
 "nbformat": 4,
 "nbformat_minor": 2
}
