{
 "cells": [
  {
   "cell_type": "code",
   "execution_count": 54,
   "metadata": {},
   "outputs": [],
   "source": [
    "from IPython.display import display\n",
    "import traitlets\n",
    "import ipywidgets.widgets as widgets\n",
    "import sys\n",
    "sys.path.append('/opt/nvidia/jetson-gpio/lib/python/')\n",
    "sys.path.append('/opt/nvidia/jetson-gpio/lib/python/Jetson/GPIO')\n",
    "from adafruit_servokit import ServoKit"
   ]
  },
  {
   "cell_type": "code",
   "execution_count": 43,
   "metadata": {},
   "outputs": [],
   "source": [
    "class Racecar(traitlets.HasTraits):\n",
    "    \n",
    "    throttle = traitlets.Float(default_value=0.0)\n",
    "    steering = traitlets.Float(default_value=0.0)\n",
    "    \n",
    "    def __init__(self):\n",
    "        self._kit = ServoKit(channels=16)\n",
    "        self._steering_servo = self._kit.continuous_servo[0]\n",
    "        self._throttle_motor = self._kit.continuous_servo[1]\n",
    "        \n",
    "    @traitlets.observe('throttle')\n",
    "    def _on_throttle(self, change):\n",
    "        self._throttle_motor.throttle = -change['new']\n",
    "        \n",
    "    @traitlets.validate('throttle')\n",
    "    def _validate_throttle(self, proposal):\n",
    "        if proposal['value'] > 1.0:\n",
    "            return 1.0\n",
    "        if proposal['value'] < -1.0:\n",
    "            return -1.0\n",
    "        return proposal['value']\n",
    "        \n",
    "    @traitlets.validate('steering')\n",
    "    def _validate_steering(self, proposal):\n",
    "        if proposal['value'] > 1.0:\n",
    "            return 1.0\n",
    "        if proposal['value'] < -1.0:\n",
    "            return -1.0\n",
    "        return proposal['value']\n",
    "        \n",
    "    @traitlets.observe('steering')\n",
    "    def _on_steering(self, change):\n",
    "        self._steering_servo.throttle = change['new']"
   ]
  },
  {
   "cell_type": "code",
   "execution_count": 44,
   "metadata": {},
   "outputs": [],
   "source": [
    "car = Racecar()"
   ]
  },
  {
   "cell_type": "code",
   "execution_count": 56,
   "metadata": {},
   "outputs": [
    {
     "data": {
      "application/vnd.jupyter.widget-view+json": {
       "model_id": "baa13bf39e9e45d9a4447c9dec4ce54f",
       "version_major": 2,
       "version_minor": 0
      },
      "text/plain": [
       "Controller()"
      ]
     },
     "metadata": {},
     "output_type": "display_data"
    }
   ],
   "source": [
    "controller = widgets.Controller(index=0)\n",
    "\n",
    "display(controller)"
   ]
  },
  {
   "cell_type": "code",
   "execution_count": 64,
   "metadata": {},
   "outputs": [
    {
     "data": {
      "application/vnd.jupyter.widget-view+json": {
       "model_id": "5b4dead55b734002a18334f4b3ab28d8",
       "version_major": 2,
       "version_minor": 0
      },
      "text/plain": [
       "FloatSlider(value=1.0, description='steering gain', max=1.0)"
      ]
     },
     "metadata": {},
     "output_type": "display_data"
    },
    {
     "data": {
      "application/vnd.jupyter.widget-view+json": {
       "model_id": "e34f7828d46542839f6c39a0afa3c636",
       "version_major": 2,
       "version_minor": 0
      },
      "text/plain": [
       "FloatSlider(value=0.0, description='steering trim', max=0.2, min=-0.2, step=0.001)"
      ]
     },
     "metadata": {},
     "output_type": "display_data"
    },
    {
     "data": {
      "application/vnd.jupyter.widget-view+json": {
       "model_id": "9494ec3be16b4c98a18bf8479b55fa4e",
       "version_major": 2,
       "version_minor": 0
      },
      "text/plain": [
       "FloatSlider(value=0.3, description='throttle gain', max=1.0)"
      ]
     },
     "metadata": {},
     "output_type": "display_data"
    }
   ],
   "source": [
    "steering_gain = widgets.FloatSlider(min=0.0, max=1.0, value=1.0, description='steering gain')\n",
    "steering_trim = widgets.FloatSlider(min=-0.2, max=0.2, value=0.0, step=0.001, description='steering trim')\n",
    "throttle_gain = widgets.FloatSlider(min=0.0, max=1.0, value=0.3, description='throttle gain')\n",
    "\n",
    "display(steering_gain, steering_trim, throttle_gain)"
   ]
  },
  {
   "cell_type": "code",
   "execution_count": 66,
   "metadata": {},
   "outputs": [
    {
     "data": {
      "text/plain": [
       "<traitlets.traitlets.directional_link at 0x7f7c455438>"
      ]
     },
     "execution_count": 66,
     "metadata": {},
     "output_type": "execute_result"
    }
   ],
   "source": [
    "traitlets.dlink((controller.axes[2], 'value'), (car, 'steering'), transform=lambda x: x * steering_gain.value + steering_trim.value)"
   ]
  },
  {
   "cell_type": "code",
   "execution_count": 67,
   "metadata": {},
   "outputs": [
    {
     "data": {
      "text/plain": [
       "<traitlets.traitlets.directional_link at 0x7f7c455f98>"
      ]
     },
     "execution_count": 67,
     "metadata": {},
     "output_type": "execute_result"
    }
   ],
   "source": [
    "traitlets.dlink((controller.axes[1], 'value'), (car, 'throttle'), transform=lambda x: -x * throttle_gain.value)"
   ]
  },
  {
   "cell_type": "code",
   "execution_count": 65,
   "metadata": {},
   "outputs": [],
   "source": [
    "controller.axes[2].unobserve_all()"
   ]
  }
 ],
 "metadata": {
  "kernelspec": {
   "display_name": "Python 3",
   "language": "python",
   "name": "python3"
  },
  "language_info": {
   "codemirror_mode": {
    "name": "ipython",
    "version": 3
   },
   "file_extension": ".py",
   "mimetype": "text/x-python",
   "name": "python",
   "nbconvert_exporter": "python",
   "pygments_lexer": "ipython3",
   "version": "3.6.7"
  }
 },
 "nbformat": 4,
 "nbformat_minor": 2
}
